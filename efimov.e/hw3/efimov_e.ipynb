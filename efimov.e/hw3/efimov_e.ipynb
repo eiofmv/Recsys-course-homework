{
 "cells": [
  {
   "cell_type": "code",
   "execution_count": 6,
   "metadata": {},
   "outputs": [],
   "source": [
    "import pandas as pd\n",
    "import numpy as np\n",
    "from datetime import datetime, timedelta\n",
    "import matplotlib.pyplot as plt\n",
    "%matplotlib inline"
   ]
  },
  {
   "cell_type": "code",
   "execution_count": 2,
   "metadata": {},
   "outputs": [
    {
     "data": {
      "text/html": [
       "<div>\n",
       "<style scoped>\n",
       "    .dataframe tbody tr th:only-of-type {\n",
       "        vertical-align: middle;\n",
       "    }\n",
       "\n",
       "    .dataframe tbody tr th {\n",
       "        vertical-align: top;\n",
       "    }\n",
       "\n",
       "    .dataframe thead th {\n",
       "        text-align: right;\n",
       "    }\n",
       "</style>\n",
       "<table border=\"1\" class=\"dataframe\">\n",
       "  <thead>\n",
       "    <tr style=\"text-align: right;\">\n",
       "      <th></th>\n",
       "      <th>date_time</th>\n",
       "      <th>zone_id</th>\n",
       "      <th>banner_id</th>\n",
       "      <th>oaid_hash</th>\n",
       "      <th>campaign_clicks</th>\n",
       "      <th>os_id</th>\n",
       "      <th>country_id</th>\n",
       "      <th>impressions</th>\n",
       "      <th>clicks</th>\n",
       "    </tr>\n",
       "  </thead>\n",
       "  <tbody>\n",
       "    <tr>\n",
       "      <th>0</th>\n",
       "      <td>2021-09-27 00:01:30</td>\n",
       "      <td>0</td>\n",
       "      <td>0</td>\n",
       "      <td>5664530014561852622</td>\n",
       "      <td>0</td>\n",
       "      <td>0</td>\n",
       "      <td>0</td>\n",
       "      <td>1</td>\n",
       "      <td>1</td>\n",
       "    </tr>\n",
       "    <tr>\n",
       "      <th>1</th>\n",
       "      <td>2021-09-26 22:54:49</td>\n",
       "      <td>1</td>\n",
       "      <td>1</td>\n",
       "      <td>5186611064559013950</td>\n",
       "      <td>0</td>\n",
       "      <td>0</td>\n",
       "      <td>1</td>\n",
       "      <td>1</td>\n",
       "      <td>1</td>\n",
       "    </tr>\n",
       "    <tr>\n",
       "      <th>2</th>\n",
       "      <td>2021-09-26 23:57:20</td>\n",
       "      <td>2</td>\n",
       "      <td>2</td>\n",
       "      <td>2215519569292448030</td>\n",
       "      <td>3</td>\n",
       "      <td>0</td>\n",
       "      <td>0</td>\n",
       "      <td>1</td>\n",
       "      <td>1</td>\n",
       "    </tr>\n",
       "    <tr>\n",
       "      <th>3</th>\n",
       "      <td>2021-09-27 00:04:30</td>\n",
       "      <td>3</td>\n",
       "      <td>3</td>\n",
       "      <td>6262169206735077204</td>\n",
       "      <td>0</td>\n",
       "      <td>1</td>\n",
       "      <td>1</td>\n",
       "      <td>1</td>\n",
       "      <td>1</td>\n",
       "    </tr>\n",
       "    <tr>\n",
       "      <th>4</th>\n",
       "      <td>2021-09-27 00:06:21</td>\n",
       "      <td>4</td>\n",
       "      <td>4</td>\n",
       "      <td>4778985830203613115</td>\n",
       "      <td>0</td>\n",
       "      <td>1</td>\n",
       "      <td>0</td>\n",
       "      <td>1</td>\n",
       "      <td>1</td>\n",
       "    </tr>\n",
       "  </tbody>\n",
       "</table>\n",
       "</div>"
      ],
      "text/plain": [
       "            date_time  zone_id  banner_id            oaid_hash  \\\n",
       "0 2021-09-27 00:01:30        0          0  5664530014561852622   \n",
       "1 2021-09-26 22:54:49        1          1  5186611064559013950   \n",
       "2 2021-09-26 23:57:20        2          2  2215519569292448030   \n",
       "3 2021-09-27 00:04:30        3          3  6262169206735077204   \n",
       "4 2021-09-27 00:06:21        4          4  4778985830203613115   \n",
       "\n",
       "   campaign_clicks  os_id  country_id  impressions  clicks  \n",
       "0                0      0           0            1       1  \n",
       "1                0      0           1            1       1  \n",
       "2                3      0           0            1       1  \n",
       "3                0      1           1            1       1  \n",
       "4                0      1           0            1       1  "
      ]
     },
     "execution_count": 2,
     "metadata": {},
     "output_type": "execute_result"
    }
   ],
   "source": [
    "not_to_use = 'banner_id0, banner_id1, rate0, rate1, g0, g1, coeff_sum0, coeff_sum1'.split(', ')\n",
    "df = pd.read_csv('../../data/data.csv').drop(not_to_use, axis=1)\n",
    "df['date_time'] = pd.to_datetime(df['date_time'], format='%Y-%m-%d %H:%M:%S.%f')\n",
    "\n",
    "df.head()"
   ]
  },
  {
   "cell_type": "markdown",
   "metadata": {},
   "source": [
    "# повторим подготовку фичей из дз1"
   ]
  },
  {
   "cell_type": "code",
   "execution_count": 3,
   "metadata": {},
   "outputs": [],
   "source": [
    "df['date'] = df['date_time'].dt.date\n",
    "df = df[df['date'] > datetime(2021, 9, 10).date()]\n",
    "\n",
    "df['hour'] = df['date_time'].dt.hour\n",
    "df['last_date'] = (df['date_time'] - timedelta(days=1)).dt.date\n",
    "\n",
    "df['last_hour'] = (df['date_time'] - timedelta(hours=1)).dt.hour"
   ]
  },
  {
   "cell_type": "code",
   "execution_count": 4,
   "metadata": {},
   "outputs": [],
   "source": [
    "def add_feature_by_time(df, feature):\n",
    "    feature_date = (\n",
    "        df\n",
    "        .groupby(['date', feature], as_index=False)\n",
    "        .agg(\n",
    "            feature_last_date_actions=('impressions', 'count'), \n",
    "            feature_last_date_conversion=('clicks', 'mean')\n",
    "        )\n",
    "        .rename(columns={\n",
    "            'date': 'last_date',\n",
    "            'feature_last_date_actions': f'{feature}_last_date_actions',\n",
    "            'feature_last_date_conversion': f'{feature}_last_date_conversion'\n",
    "        })\n",
    "    )\n",
    "    \n",
    "    feature_date_hour = (\n",
    "        df\n",
    "        .groupby(['date', 'hour', feature], as_index=False)\n",
    "        .agg(\n",
    "            feature_last_hour_actions=('impressions', 'count'), \n",
    "            feature_last_hour_conversion=('clicks', 'mean')\n",
    "        )\n",
    "        .rename(columns={\n",
    "            'date': 'last_date',\n",
    "            'hour': 'last_hour',\n",
    "            'feature_last_hour_actions': f'{feature}_last_hour_actions',\n",
    "            'feature_last_hour_conversion': f'{feature}_last_hour_conversion'\n",
    "        })\n",
    "    )\n",
    "    \n",
    "    return (\n",
    "        df\n",
    "        .merge(\n",
    "            feature_date,\n",
    "            on=['last_date', feature],\n",
    "            how='left'\n",
    "        )\n",
    "        .merge(\n",
    "            feature_date_hour,\n",
    "            on=['last_date', 'last_hour', feature],\n",
    "            how='left'\n",
    "        )\n",
    "    )\n",
    "\n",
    "df_merged = add_feature_by_time(df, 'banner_id')\n",
    "df_merged = add_feature_by_time(df_merged, 'zone_id')\n",
    "df_merged = add_feature_by_time(df_merged, 'os_id')\n",
    "df_merged = add_feature_by_time(df_merged, 'country_id')\n",
    "df_merged = df_merged.fillna(0)"
   ]
  },
  {
   "cell_type": "code",
   "execution_count": 5,
   "metadata": {},
   "outputs": [
    {
     "data": {
      "text/plain": [
       "(6510315, 613020, 217988, 12040, 2849, 154)"
      ]
     },
     "execution_count": 5,
     "metadata": {},
     "output_type": "execute_result"
    }
   ],
   "source": [
    "user_actions = df.groupby('oaid_hash').agg(actions=('impressions', 'count'))\n",
    "\n",
    "(\n",
    "    user_actions.shape[0],\n",
    "    user_actions.query('actions >= 5').shape[0],\n",
    "    user_actions.query('actions >= 10').shape[0],\n",
    "    user_actions.query('actions >= 50').shape[0],\n",
    "    user_actions.query('actions >= 100').shape[0],\n",
    "    user_actions.query('actions >= 500').shape[0],\n",
    ")"
   ]
  },
  {
   "cell_type": "code",
   "execution_count": 6,
   "metadata": {},
   "outputs": [
    {
     "data": {
      "text/plain": [
       "(1633, 1372, 1302, 1178, 1109, 975)"
      ]
     },
     "execution_count": 6,
     "metadata": {},
     "output_type": "execute_result"
    }
   ],
   "source": [
    "banner_actions = df.groupby('banner_id').agg(actions=('impressions', 'count'))\n",
    "\n",
    "(\n",
    "    banner_actions.shape[0],\n",
    "    banner_actions.query('actions >= 5').shape[0],\n",
    "    banner_actions.query('actions >= 10').shape[0],\n",
    "    banner_actions.query('actions >= 50').shape[0],\n",
    "    banner_actions.query('actions >= 100').shape[0],\n",
    "    banner_actions.query('actions >= 500').shape[0],\n",
    ")"
   ]
  },
  {
   "cell_type": "markdown",
   "metadata": {},
   "source": [
    "Возьмем только юзеров, у которых >=5 показов и баннеры, у которых >=50 показов."
   ]
  },
  {
   "cell_type": "code",
   "execution_count": 7,
   "metadata": {},
   "outputs": [],
   "source": [
    "df_merged = (\n",
    "    df_merged\n",
    "    .merge(\n",
    "        user_actions,\n",
    "        on='oaid_hash',\n",
    "        how='left'\n",
    "    )\n",
    ")\n",
    "\n",
    "df_merged.loc[df_merged['actions'] < 5, 'oaid_hash'] = -1\n",
    "\n",
    "df_merged = (\n",
    "    df_merged\n",
    "    .drop('actions', axis=1)\n",
    "    .merge(\n",
    "        banner_actions,\n",
    "        on='banner_id',\n",
    "        how='left'\n",
    "    )\n",
    ")\n",
    "\n",
    "df_merged.loc[df_merged['actions'] < 50, 'banner_id'] = -1\n",
    "df_merged = df_merged.drop('actions', axis=1)"
   ]
  },
  {
   "cell_type": "markdown",
   "metadata": {},
   "source": [
    "Возьмем такие филды:\n",
    "\n",
    " - **user**: `os_id`, `country_id`, `oaid_hash`\n",
    " - **campaign**: `banner_id`, `campaign_clicks`, `banner_id_last_hour_actions`, `banner_id_last_hour_conversion`, `banner_id_last_date_actions`, `banner_id_last_date_conversion`\n",
    " - **context**: `zone_id`, `hour`, `zone_id_last_hour_actions`, `zone_id_last_hour_conversion`, `os_id_last_hour_actions`, `os_id_last_hour_conversion`, `country_id_last_hour_actions`, `country_id_last_hour_conversion`, `zone_id_last_date_actions`, `zone_id_last_date_conversion`, `os_id_last_date_actions`, `os_id_last_date_conversion`, `country_id_last_date_actions`, `country_id_last_date_conversion`"
   ]
  },
  {
   "cell_type": "code",
   "execution_count": 8,
   "metadata": {},
   "outputs": [],
   "source": [
    "fields = [\n",
    "    ['os_id', 'country_id', 'oaid_hash'],\n",
    "    ['banner_id', 'campaign_clicks', \n",
    "     *[f'banner_id_last_{i}_{j}' for i in ['date', 'hour'] for j in ['actions', 'conversion']]],\n",
    "    ['zone_id', 'hour', \n",
    "     *[\n",
    "         f'{i}_id_last_{j}_{k}' \n",
    "         for i in ['zone', 'os', 'country']\n",
    "         for j in ['date', 'hour']\n",
    "         for k in ['actions', 'conversion']\n",
    "     ]]\n",
    "]\n",
    "\n",
    "field_dict = {\n",
    "    feature: i for i, field in enumerate(fields) for feature in field\n",
    "}"
   ]
  },
  {
   "cell_type": "code",
   "execution_count": 9,
   "metadata": {},
   "outputs": [],
   "source": [
    "numeric = [\n",
    "    'campaign_clicks', \n",
    "    *[\n",
    "         f'{i}_id_last_{j}_{k}' \n",
    "         for i in ['banner', 'zone', 'os', 'country']\n",
    "         for j in ['date', 'hour']\n",
    "         for k in ['actions', 'conversion']\n",
    "     ]\n",
    "]\n",
    "\n",
    "categorical = [\n",
    "    'os_id', 'country_id', 'oaid_hash',\n",
    "    'banner_id', 'zone_id', 'hour'\n",
    "]"
   ]
  },
  {
   "cell_type": "code",
   "execution_count": 10,
   "metadata": {},
   "outputs": [],
   "source": [
    "def encode_categories(df, categorical):\n",
    "    encoder = {\n",
    "        'cur_value': 0,\n",
    "        'codes': dict()\n",
    "    }\n",
    "    \n",
    "    for col in df.columns:\n",
    "        if col in categorical:\n",
    "            unique = df[col].unique()\n",
    "            encoder['codes'][col] = dict()\n",
    "            \n",
    "            for i in unique:\n",
    "                encoder['codes'][col][i] = encoder['cur_value']\n",
    "                encoder['cur_value'] += 1\n",
    "                \n",
    "    return encoder"
   ]
  },
  {
   "cell_type": "code",
   "execution_count": 11,
   "metadata": {},
   "outputs": [],
   "source": [
    "encoder = encode_categories(df_merged, categorical)"
   ]
  },
  {
   "cell_type": "code",
   "execution_count": 20,
   "metadata": {},
   "outputs": [],
   "source": [
    "def make_dataset(df, encoder, field_dict, categorical, numeric):\n",
    "    i = 0\n",
    "    for col in numeric:\n",
    "        field = field_dict[col]\n",
    "        df[col + '_ffm'] = df[col].map(lambda x: f'{field}:{i}:{x}')\n",
    "        i += 1\n",
    "        \n",
    "    for col in categorical:\n",
    "        field = field_dict[col]\n",
    "        codes_fol_feat = encoder['codes'][col]\n",
    "        df[col + '_ffm'] = df[col].map(lambda x: f'{field}:{codes_fol_feat[x]}:1')\n",
    "        \n",
    "    return df"
   ]
  },
  {
   "cell_type": "code",
   "execution_count": 21,
   "metadata": {},
   "outputs": [],
   "source": [
    "df_final = make_dataset(df_merged, encoder, field_dict, categorical, numeric)\n",
    "columns_to_select = ['clicks', *[col for col in df_final.columns if col.endswith('_ffm')]]"
   ]
  },
  {
   "cell_type": "code",
   "execution_count": 23,
   "metadata": {},
   "outputs": [],
   "source": [
    "(\n",
    "    df_final\n",
    "    [df_final['date'] < datetime(2021, 10, 1).date()]\n",
    "    [columns_to_select]\n",
    "    .to_csv('./data/train_ffm.txt', sep=' ', header=False, index=False)\n",
    ")\n",
    "\n",
    "(\n",
    "    df_final\n",
    "    [df_final['date'] == datetime(2021, 10, 1).date()]\n",
    "    [columns_to_select]\n",
    "    .to_csv('./data/val_ffm.txt', sep=' ', header=False, index=False)\n",
    ")\n",
    "\n",
    "(\n",
    "    df_final\n",
    "    [df_final['date'] == datetime(2021, 10, 2).date()]\n",
    "    [columns_to_select]\n",
    "    .to_csv('./data/test_ffm.txt', sep=' ', header=False, index=False)\n",
    ")"
   ]
  },
  {
   "cell_type": "markdown",
   "metadata": {},
   "source": [
    "# тренируем ffm"
   ]
  },
  {
   "cell_type": "code",
   "execution_count": 6,
   "metadata": {},
   "outputs": [],
   "source": [
    "import xlearn as xl\n",
    "from sklearn.metrics import log_loss\n",
    "import pandas as pd\n",
    "import numpy as np\n",
    "import os"
   ]
  },
  {
   "cell_type": "code",
   "execution_count": 2,
   "metadata": {},
   "outputs": [],
   "source": [
    "def train_and_eval(k=4, lr=0.2, l=0.002):\n",
    "    ffm_model = xl.create_ffm()\n",
    "    \n",
    "    if f'model_{k}_{lr}_{l}.out' not in os.listdir('./models'):\n",
    "        ffm_model.setTrain('./data/train_ffm.txt')\n",
    "\n",
    "        param = {\n",
    "            'task': 'binary', \n",
    "            'lr': lr, \n",
    "            'lambda': l,\n",
    "            'k': k,\n",
    "            'metric': 'acc'\n",
    "        }\n",
    "\n",
    "        ffm_model.fit(param, f'./models/model_{k}_{lr}_{l}.out')\n",
    "    \n",
    "    \n",
    "    ffm_model.setTest('./data/val_ffm.txt')\n",
    "    ffm_model.setSigmoid()\n",
    "    \n",
    "    ffm_model.predict(f'models/model_{k}_{lr}_{l}.out', f'data/pred_{k}_{lr}_{l}.txt')\n",
    "    \n",
    "    y_pred = pd.read_csv(f'data/pred_{k}_{lr}_{l}.txt', sep=' ', header=None).values[:, 0].reshape(-1)\n",
    "    y_true = pd.read_csv(f'./data/val_ffm.txt', sep=' ', header=None).values[:, 0].reshape(-1)\n",
    "    return log_loss(y_true.astype(int), y_pred)"
   ]
  },
  {
   "cell_type": "code",
   "execution_count": 3,
   "metadata": {},
   "outputs": [
    {
     "name": "stdout",
     "output_type": "stream",
     "text": [
      "2 0.5 0.2 0.180\n",
      "2 0.5 0.02 0.179\n",
      "2 0.5 0.002 0.178\n",
      "2 0.2 0.2 0.180\n",
      "2 0.2 0.02 0.180\n",
      "2 0.2 0.002 0.178\n",
      "2 0.05 0.2 0.179\n",
      "2 0.05 0.02 0.179\n",
      "2 0.05 0.002 0.178\n",
      "4 0.5 0.2 0.180\n",
      "4 0.5 0.02 0.180\n",
      "4 0.5 0.002 0.178\n",
      "4 0.2 0.2 0.180\n",
      "4 0.2 0.02 0.180\n",
      "4 0.2 0.002 0.178\n",
      "4 0.05 0.2 0.178\n",
      "4 0.05 0.02 0.179\n",
      "4 0.05 0.002 0.178\n",
      "6 0.5 0.2 0.180\n",
      "6 0.5 0.02 0.180\n",
      "6 0.5 0.002 0.178\n",
      "6 0.2 0.2 0.180\n",
      "6 0.2 0.02 0.179\n",
      "6 0.2 0.002 0.178\n",
      "6 0.05 0.2 0.178\n",
      "6 0.05 0.02 0.179\n",
      "6 0.05 0.002 0.178\n"
     ]
    }
   ],
   "source": [
    "for k in [2, 4, 6]:\n",
    "    for lr in [0.5, 0.2, 0.05]:\n",
    "        for l in [0.2, 0.02, 0.002]:\n",
    "            loss = train_and_eval(k=k, lr=lr, l=l)\n",
    "            print(f'{k} {lr} {l} {loss:.3f}')"
   ]
  },
  {
   "cell_type": "markdown",
   "metadata": {},
   "source": [
    "# оценка на тесте"
   ]
  },
  {
   "cell_type": "code",
   "execution_count": 7,
   "metadata": {},
   "outputs": [
    {
     "name": "stdout",
     "output_type": "stream",
     "text": [
      "0.1559\n"
     ]
    }
   ],
   "source": [
    "# baseline\n",
    "y_true = pd.read_csv(f'./data/test_ffm.txt', sep=' ', header=None).values[:, 0].reshape(-1)\n",
    "\n",
    "with open('./data/train_ffm.txt', 'r') as f:\n",
    "    lines = f.readlines()\n",
    "    \n",
    "s = 0\n",
    "for l in lines:\n",
    "    s += int(l[0])\n",
    "    \n",
    "dummy = s / len(lines)\n",
    "dummy_predict = np.ones(len(y_true)) * dummy\n",
    "\n",
    "print(f'{log_loss(y_true.astype(int), dummy_predict):.4f}')"
   ]
  },
  {
   "cell_type": "code",
   "execution_count": 4,
   "metadata": {},
   "outputs": [
    {
     "name": "stdout",
     "output_type": "stream",
     "text": [
      "0.1545\n"
     ]
    }
   ],
   "source": [
    "ffm_model = xl.create_ffm()\n",
    "\n",
    "k = 6\n",
    "lr = 0.05\n",
    "l = 0.002\n",
    "\n",
    "ffm_model.setTest('./data/test_ffm.txt')\n",
    "ffm_model.setSigmoid()\n",
    "\n",
    "ffm_model.predict(f'models/model_{k}_{lr}_{l}.out', f'data/pred_{k}_{lr}_{l}.txt')\n",
    "\n",
    "y_pred = pd.read_csv(f'data/pred_{k}_{lr}_{l}.txt', sep=' ', header=None).values[:, 0].reshape(-1)\n",
    "print(f'{log_loss(y_true.astype(int), y_pred):.4f}')"
   ]
  },
  {
   "cell_type": "markdown",
   "metadata": {},
   "source": [
    "FFM оказался чуть хуже линейной модели на этих же фичах (у линейной лосс был `0.1479`), однако все равно удалось побить бейзлайн."
   ]
  },
  {
   "cell_type": "code",
   "execution_count": null,
   "metadata": {},
   "outputs": [],
   "source": []
  }
 ],
 "metadata": {
  "kernelspec": {
   "display_name": "Python 3",
   "language": "python",
   "name": "python3"
  },
  "language_info": {
   "codemirror_mode": {
    "name": "ipython",
    "version": 3
   },
   "file_extension": ".py",
   "mimetype": "text/x-python",
   "name": "python",
   "nbconvert_exporter": "python",
   "pygments_lexer": "ipython3",
   "version": "3.8.5"
  }
 },
 "nbformat": 4,
 "nbformat_minor": 4
}
